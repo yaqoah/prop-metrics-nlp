{
  "cells": [
    {
      "cell_type": "code",
      "execution_count": 1,
      "metadata": {},
      "outputs": [
        {
          "name": "stderr",
          "output_type": "stream",
          "text": [
            "'rm' is not recognized as an internal or external command,\n",
            "operable program or batch file.\n"
          ]
        }
      ],
      "source": [
        "!rm -rf colab_package.zip database requirements.txt src"
      ]
    },
    {
      "cell_type": "code",
      "execution_count": null,
      "metadata": {},
      "outputs": [
        {
          "name": "stdout",
          "output_type": "stream",
          "text": [
            "✅ Package extracted\n"
          ]
        }
      ],
      "source": [
        "import zipfile\n",
        "\n",
        "from google.colab import files\n",
        "uploaded = files.upload()\n",
        "\n",
        "with zipfile.ZipFile('colab_package.zip', \"r\") as zf:\n",
        "    zf.extractall(\".\")\n",
        "    \n",
        "print(\"✅ Package extracted\")"
      ]
    },
    {
      "cell_type": "code",
      "execution_count": null,
      "metadata": {},
      "outputs": [],
      "source": [
        "!ls\n",
        "# !ls -R"
      ]
    },
    {
      "cell_type": "code",
      "execution_count": null,
      "metadata": {},
      "outputs": [
        {
          "name": "stdout",
          "output_type": "stream",
          "text": [
            "Note: you may need to restart the kernel to use updated packages.\n",
            "Collecting en-core-web-sm==3.8.0\n",
            "  Using cached https://github.com/explosion/spacy-models/releases/download/en_core_web_sm-3.8.0/en_core_web_sm-3.8.0-py3-none-any.whl (12.8 MB)\n",
            "\u001b[38;5;2m✔ Download and installation successful\u001b[0m\n",
            "You can now load the package via spacy.load('en_core_web_sm')\n",
            "⚠️ No GPU (still faster than laptop)\n"
          ]
        }
      ],
      "source": [
        "# 2. install requirements with GPU support\n",
        "%pip install -q -r requirements.txt\n",
        "!python -m spacy download en_core_web_sm\n",
        "\n",
        "# Enable GPU for PyTorch\n",
        "import torch\n",
        "import tensorflow as tf\n",
        "\n",
        "if torch.cuda.is_available():\n",
        "    print(f\"✅ GPU Enabled: {torch.cuda.get_device_name()}\")\n",
        "    print(f\"TensorFlow GPU: {len(tf.config.list_physical_devices('GPU'))}\")\n",
        "else:\n",
        "    print(\"⚠️ No GPU (still faster than laptop)\")"
      ]
    },
    {
      "cell_type": "code",
      "execution_count": null,
      "metadata": {},
      "outputs": [
        {
          "name": "stdout",
          "output_type": "stream",
          "text": [
            "✅ Environment configured\n"
          ]
        }
      ],
      "source": [
        "# 3. set environment to use GPU\n",
        "import os\n",
        "os.environ['CUDA_VISIBLE_DEVICES'] = '0'\n",
        "\n",
        "from dotenv import load_dotenv\n",
        "load_dotenv()\n",
        "\n",
        "!pip install -U spacy[cuda11x,transformers]\n",
        "\n",
        "# Set memory growth to avoid OOM\n",
        "gpus = tf.config.experimental.list_physical_devices('GPU')\n",
        "if gpus:\n",
        "    for gpu in gpus:\n",
        "        tf.config.experimental.set_memory_growth(gpu, True)\n",
        "\n",
        "print(\"✅ Environment configured\")"
      ]
    },
    {
      "cell_type": "code",
      "execution_count": null,
      "metadata": {},
      "outputs": [],
      "source": [
        "# Fix CuPy\n",
        "!pip uninstall -y cupy cupy-cuda10x cupy-cuda11x cupy-cuda12x cupy-cuda-runtime\n",
        "!pip install cupy-cuda11x"
      ]
    },
    {
      "cell_type": "code",
      "execution_count": null,
      "metadata": {},
      "outputs": [],
      "source": [
        "from google.colab import drive\n",
        "drive.mount('/content/drive')\n",
        "\n",
        "import os\n",
        "checkpoint_dir = \"/content/drive/MyDrive/ColabCheckpoints\"\n",
        "# Create the directory if it doesn't exist\n",
        "os.makedirs(checkpoint_dir, exist_ok=True)"
      ]
    },
    {
      "cell_type": "code",
      "execution_count": null,
      "metadata": {},
      "outputs": [],
      "source": [
        "!PYTHONPATH=. python -m src.processing.main"
      ]
    },
    {
      "cell_type": "code",
      "execution_count": null,
      "metadata": {},
      "outputs": [],
      "source": [
        "# misc: code to give insight on the checkpoint\n",
        "from google.colab import drive\n",
        "drive.mount('/content/drive')\n",
        "\n",
        "def analyze_all_checkpoints(checkpoint_dir=\"/content/drive/MyDrive/ColabCheckpoints\"):\n",
        "    from pathlib import Path\n",
        "    import pickle\n",
        "    \n",
        "    checkpoint_path = Path(checkpoint_dir)\n",
        "    checkpoints = list(checkpoint_path.glob(\"*_checkpoint.pkl\"))\n",
        "    \n",
        "    stage_counts = {}\n",
        "    firms_by_stage = {}\n",
        "    \n",
        "    for cp_file in checkpoints:\n",
        "        with open(cp_file, 'rb') as f:\n",
        "            cp_data = pickle.load(f)\n",
        "            stage = cp_data.get('stage', 'Unknown')\n",
        "            firm = cp_data.get('firm_name', 'Unknown')\n",
        "            \n",
        "            stage_counts[stage] = stage_counts.get(stage, 0) + 1\n",
        "            if stage not in firms_by_stage:\n",
        "                firms_by_stage[stage] = []\n",
        "            firms_by_stage[stage].append(firm)\n",
        "    \n",
        "    print(\"Checkpoint Analysis:\")\n",
        "    print(f\"Total checkpoints: {len(checkpoints)}\")\n",
        "    print(\"\\nBreakdown by stage:\")\n",
        "    for stage, count in stage_counts.items():\n",
        "        print(f\"  - {stage}: {count} firms\")\n",
        "        \n",
        "    return firms_by_stage\n",
        "\n",
        "# Run this to confirm all are at topic_modeling\n",
        "firms_by_stage = analyze_all_checkpoints()"
      ]
    }
  ],
  "metadata": {
    "accelerator": "GPU",
    "colab": {
      "provenance": []
    },
    "kernelspec": {
      "display_name": "main",
      "language": "python",
      "name": "python3"
    },
    "language_info": {
      "codemirror_mode": {
        "name": "ipython",
        "version": 3
      },
      "file_extension": ".py",
      "mimetype": "text/x-python",
      "name": "python",
      "nbconvert_exporter": "python",
      "pygments_lexer": "ipython3",
      "version": "3.10.11"
    }
  },
  "nbformat": 4,
  "nbformat_minor": 0
}
